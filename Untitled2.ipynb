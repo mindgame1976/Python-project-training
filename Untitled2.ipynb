{
 "cells": [
  {
   "cell_type": "code",
   "execution_count": 7,
   "metadata": {
    "collapsed": false,
    "scrolled": true
   },
   "outputs": [
    {
     "data": {
      "text/html": [
       "<div>\n",
       "<table border=\"1\" class=\"dataframe\">\n",
       "  <thead>\n",
       "    <tr style=\"text-align: right;\">\n",
       "      <th></th>\n",
       "      <th>����</th>\n",
       "      <th>ʡ��</th>\n",
       "      <th>����</th>\n",
       "      <th>��������������</th>\n",
       "      <th>��������������</th>\n",
       "      <th>����</th>\n",
       "      <th>���ֻ���</th>\n",
       "      <th>ǩԼ���п�����</th>\n",
       "      <th>����ͨ������</th>\n",
       "      <th>�ɹ����׽��</th>\n",
       "      <th>֧����ʽ</th>\n",
       "    </tr>\n",
       "  </thead>\n",
       "  <tbody>\n",
       "    <tr>\n",
       "      <th>0</th>\n",
       "      <td>20160927</td>\n",
       "      <td>����</td>\n",
       "      <td>����</td>\n",
       "      <td>8311041797</td>\n",
       "      <td>��ˮ˳������Ӫҵ��</td>\n",
       "      <td>����</td>\n",
       "      <td>1320602****</td>\n",
       "      <td>NaN</td>\n",
       "      <td>NaN</td>\n",
       "      <td>800.0</td>\n",
       "      <td>����</td>\n",
       "    </tr>\n",
       "    <tr>\n",
       "      <th>1</th>\n",
       "      <td>20160911</td>\n",
       "      <td>����</td>\n",
       "      <td>����</td>\n",
       "      <td>8311041797</td>\n",
       "      <td>��ˮ˳������Ӫҵ��</td>\n",
       "      <td>����</td>\n",
       "      <td>1320602****</td>\n",
       "      <td>NaN</td>\n",
       "      <td>NaN</td>\n",
       "      <td>1000.0</td>\n",
       "      <td>����</td>\n",
       "    </tr>\n",
       "    <tr>\n",
       "      <th>2</th>\n",
       "      <td>20160930</td>\n",
       "      <td>����</td>\n",
       "      <td>����</td>\n",
       "      <td>8311041802</td>\n",
       "      <td>������̫����Ӫҵ��</td>\n",
       "      <td>������</td>\n",
       "      <td>1310237****</td>\n",
       "      <td>NaN</td>\n",
       "      <td>NaN</td>\n",
       "      <td>500.0</td>\n",
       "      <td>����</td>\n",
       "    </tr>\n",
       "    <tr>\n",
       "      <th>3</th>\n",
       "      <td>20160928</td>\n",
       "      <td>����</td>\n",
       "      <td>����</td>\n",
       "      <td>8311041802</td>\n",
       "      <td>������̫����Ӫҵ��</td>\n",
       "      <td>������</td>\n",
       "      <td>1310237****</td>\n",
       "      <td>NaN</td>\n",
       "      <td>NaN</td>\n",
       "      <td>500.0</td>\n",
       "      <td>����</td>\n",
       "    </tr>\n",
       "    <tr>\n",
       "      <th>4</th>\n",
       "      <td>20160926</td>\n",
       "      <td>����</td>\n",
       "      <td>����</td>\n",
       "      <td>8311041802</td>\n",
       "      <td>������̫����Ӫҵ��</td>\n",
       "      <td>������</td>\n",
       "      <td>1310237****</td>\n",
       "      <td>NaN</td>\n",
       "      <td>NaN</td>\n",
       "      <td>700.0</td>\n",
       "      <td>����</td>\n",
       "    </tr>\n",
       "  </tbody>\n",
       "</table>\n",
       "</div>"
      ],
      "text/plain": [
       "       ����   ʡ��  ���� ��������������   ��������������    ����      ���ֻ���  \\\n",
       "0  20160927  ����  ����     8311041797   ��ˮ˳������Ӫҵ��    ����  1320602****   \n",
       "1  20160911  ����  ����     8311041797   ��ˮ˳������Ӫҵ��    ����  1320602****   \n",
       "2  20160930  ����  ����     8311041802  ������̫����Ӫҵ��  ������  1310237****   \n",
       "3  20160928  ����  ����     8311041802  ������̫����Ӫҵ��  ������  1310237****   \n",
       "4  20160926  ����  ����     8311041802  ������̫����Ӫҵ��  ������  1310237****   \n",
       "\n",
       "  ǩԼ���п����� ����ͨ������  �ɹ����׽�� ֧����ʽ  \n",
       "0         NaN         NaN      800.0   ����  \n",
       "1         NaN         NaN     1000.0   ����  \n",
       "2         NaN         NaN      500.0   ����  \n",
       "3         NaN         NaN      500.0   ����  \n",
       "4         NaN         NaN      700.0   ����  "
      ]
     },
     "execution_count": 7,
     "metadata": {},
     "output_type": "execute_result"
    }
   ],
   "source": [
    "#encoding=utf-8\n",
    "import pandas as pd\n",
    "df = pd.read_csv('../data/liruijie-20161007.csv')\n",
    "# -*- coding:gb2312 -*-\n",
    "df.head()"
   ]
  },
  {
   "cell_type": "code",
   "execution_count": 6,
   "metadata": {
    "collapsed": false
   },
   "outputs": [
    {
     "data": {
      "text/plain": [
       "����              1360562\n",
       "ʡ��               1360562\n",
       "����              1360562\n",
       "��������������    1360562\n",
       "��������������    1360562\n",
       "����              1360562\n",
       "���ֻ���           1360562\n",
       "ǩԼ���п�����          9691\n",
       "����ͨ������        550901\n",
       "�ɹ����׽��         1360562\n",
       "֧����ʽ            1360562\n",
       "dtype: int64"
      ]
     },
     "execution_count": 6,
     "metadata": {},
     "output_type": "execute_result"
    }
   ],
   "source": [
    "df.count()"
   ]
  },
  {
   "cell_type": "code",
   "execution_count": null,
   "metadata": {
    "collapsed": true
   },
   "outputs": [],
   "source": []
  }
 ],
 "metadata": {
  "anaconda-cloud": {},
  "kernelspec": {
   "display_name": "Python [Root]",
   "language": "python",
   "name": "Python [Root]"
  },
  "language_info": {
   "codemirror_mode": {
    "name": "ipython",
    "version": 2
   },
   "file_extension": ".py",
   "mimetype": "text/x-python",
   "name": "python",
   "nbconvert_exporter": "python",
   "pygments_lexer": "ipython2",
   "version": "2.7.12"
  }
 },
 "nbformat": 4,
 "nbformat_minor": 0
}
