{
 "cells": [
  {
   "cell_type": "code",
   "execution_count": 1,
   "metadata": {
    "collapsed": false
   },
   "outputs": [
    {
     "ename": "IndentationError",
     "evalue": "expected an indented block (<ipython-input-1-c8c4ac24a30a>, line 7)",
     "output_type": "error",
     "traceback": [
      "\u001b[1;36m  File \u001b[1;32m\"<ipython-input-1-c8c4ac24a30a>\"\u001b[1;36m, line \u001b[1;32m7\u001b[0m\n\u001b[1;33m    return s.encode('gb18030')\u001b[0m\n\u001b[1;37m         ^\u001b[0m\n\u001b[1;31mIndentationError\u001b[0m\u001b[1;31m:\u001b[0m expected an indented block\n"
     ]
    }
   ],
   "source": [
    "#!/usr/bin/env Python  \n",
    "#coding=utf-8  \n",
    "import sys  \n",
    "reload(sys)   \n",
    "sys.setdefaultencoding('utf8')  \n",
    "def ConvertCN(s):  \n",
    "return s.encode('gb18030')   \n",
    "def PrintFile(filename):  \n",
    "f = file(filename, 'r')  \n",
    "for f_line in f.readlines():  \n",
    "print ConvertCN(f_line)   \n",
    "f.close()  \n",
    "if __name__ == \"__main__\":   \n",
    "PrintFile('1.txt')  \n",
    "print ConvertCN(\"\\n****** 按任意键退出! ******\")  \n",
    "sys.stdin.readline() "
   ]
  },
  {
   "cell_type": "code",
   "execution_count": null,
   "metadata": {
    "collapsed": true
   },
   "outputs": [],
   "source": []
  }
 ],
 "metadata": {
  "kernelspec": {
   "display_name": "Python [Root]",
   "language": "python",
   "name": "Python [Root]"
  },
  "language_info": {
   "codemirror_mode": {
    "name": "ipython",
    "version": 2
   },
   "file_extension": ".py",
   "mimetype": "text/x-python",
   "name": "python",
   "nbconvert_exporter": "python",
   "pygments_lexer": "ipython2",
   "version": "2.7.12"
  }
 },
 "nbformat": 4,
 "nbformat_minor": 0
}
